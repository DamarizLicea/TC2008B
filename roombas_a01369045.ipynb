{
 "cells": [
  {
   "cell_type": "code",
   "execution_count": 23,
   "metadata": {},
   "outputs": [
    {
     "name": "stdout",
     "output_type": "stream",
     "text": [
      "Requirement already satisfied: mesa in c:\\users\\dmrzl\\appdata\\local\\programs\\python\\python312\\lib\\site-packages (2.1.2)\n",
      "Requirement already satisfied: click in c:\\users\\dmrzl\\appdata\\local\\programs\\python\\python312\\lib\\site-packages (from mesa) (8.1.7)\n",
      "Requirement already satisfied: cookiecutter in c:\\users\\dmrzl\\appdata\\local\\programs\\python\\python312\\lib\\site-packages (from mesa) (2.4.0)\n",
      "Requirement already satisfied: matplotlib in c:\\users\\dmrzl\\appdata\\local\\programs\\python\\python312\\lib\\site-packages (from mesa) (3.8.0)\n",
      "Requirement already satisfied: mesa-viz-tornado in c:\\users\\dmrzl\\appdata\\local\\programs\\python\\python312\\lib\\site-packages (from mesa) (0.1.1)\n",
      "Requirement already satisfied: networkx in c:\\users\\dmrzl\\appdata\\local\\programs\\python\\python312\\lib\\site-packages (from mesa) (3.2.1)\n",
      "Requirement already satisfied: numpy in c:\\users\\dmrzl\\appdata\\local\\programs\\python\\python312\\lib\\site-packages (from mesa) (1.26.1)\n",
      "Requirement already satisfied: pandas in c:\\users\\dmrzl\\appdata\\local\\programs\\python\\python312\\lib\\site-packages (from mesa) (2.1.2)\n",
      "Requirement already satisfied: solara in c:\\users\\dmrzl\\appdata\\local\\programs\\python\\python312\\lib\\site-packages (from mesa) (1.22.0)\n",
      "Requirement already satisfied: tqdm in c:\\users\\dmrzl\\appdata\\local\\programs\\python\\python312\\lib\\site-packages (from mesa) (4.66.1)\n",
      "Requirement already satisfied: colorama in c:\\users\\dmrzl\\appdata\\local\\programs\\python\\python312\\lib\\site-packages (from click->mesa) (0.4.6)\n",
      "Requirement already satisfied: binaryornot>=0.4.4 in c:\\users\\dmrzl\\appdata\\local\\programs\\python\\python312\\lib\\site-packages (from cookiecutter->mesa) (0.4.4)\n",
      "Requirement already satisfied: Jinja2<4.0.0,>=2.7 in c:\\users\\dmrzl\\appdata\\local\\programs\\python\\python312\\lib\\site-packages (from cookiecutter->mesa) (3.1.2)\n",
      "Requirement already satisfied: pyyaml>=5.3.1 in c:\\users\\dmrzl\\appdata\\local\\programs\\python\\python312\\lib\\site-packages (from cookiecutter->mesa) (6.0.1)\n",
      "Requirement already satisfied: python-slugify>=4.0.0 in c:\\users\\dmrzl\\appdata\\local\\programs\\python\\python312\\lib\\site-packages (from cookiecutter->mesa) (8.0.1)\n",
      "Requirement already satisfied: requests>=2.23.0 in c:\\users\\dmrzl\\appdata\\local\\programs\\python\\python312\\lib\\site-packages (from cookiecutter->mesa) (2.31.0)\n",
      "Requirement already satisfied: arrow in c:\\users\\dmrzl\\appdata\\local\\programs\\python\\python312\\lib\\site-packages (from cookiecutter->mesa) (1.3.0)\n",
      "Requirement already satisfied: rich in c:\\users\\dmrzl\\appdata\\local\\programs\\python\\python312\\lib\\site-packages (from cookiecutter->mesa) (13.6.0)\n",
      "Requirement already satisfied: contourpy>=1.0.1 in c:\\users\\dmrzl\\appdata\\local\\programs\\python\\python312\\lib\\site-packages (from matplotlib->mesa) (1.1.1)\n",
      "Requirement already satisfied: cycler>=0.10 in c:\\users\\dmrzl\\appdata\\local\\programs\\python\\python312\\lib\\site-packages (from matplotlib->mesa) (0.12.1)\n",
      "Requirement already satisfied: fonttools>=4.22.0 in c:\\users\\dmrzl\\appdata\\local\\programs\\python\\python312\\lib\\site-packages (from matplotlib->mesa) (4.43.1)\n",
      "Requirement already satisfied: kiwisolver>=1.0.1 in c:\\users\\dmrzl\\appdata\\local\\programs\\python\\python312\\lib\\site-packages (from matplotlib->mesa) (1.4.5)\n",
      "Requirement already satisfied: packaging>=20.0 in c:\\users\\dmrzl\\appdata\\local\\programs\\python\\python312\\lib\\site-packages (from matplotlib->mesa) (23.2)\n",
      "Requirement already satisfied: pillow>=6.2.0 in c:\\users\\dmrzl\\appdata\\local\\programs\\python\\python312\\lib\\site-packages (from matplotlib->mesa) (10.1.0)\n",
      "Requirement already satisfied: pyparsing>=2.3.1 in c:\\users\\dmrzl\\appdata\\local\\programs\\python\\python312\\lib\\site-packages (from matplotlib->mesa) (3.1.1)\n",
      "Requirement already satisfied: python-dateutil>=2.7 in c:\\users\\dmrzl\\appdata\\local\\programs\\python\\python312\\lib\\site-packages (from matplotlib->mesa) (2.8.2)\n",
      "Requirement already satisfied: tornado in c:\\users\\dmrzl\\appdata\\local\\programs\\python\\python312\\lib\\site-packages (from mesa-viz-tornado->mesa) (6.3.3)\n",
      "Requirement already satisfied: pytz>=2020.1 in c:\\users\\dmrzl\\appdata\\local\\programs\\python\\python312\\lib\\site-packages (from pandas->mesa) (2023.3.post1)\n",
      "Requirement already satisfied: tzdata>=2022.1 in c:\\users\\dmrzl\\appdata\\local\\programs\\python\\python312\\lib\\site-packages (from pandas->mesa) (2023.3)\n",
      "Requirement already satisfied: cachetools in c:\\users\\dmrzl\\appdata\\local\\programs\\python\\python312\\lib\\site-packages (from solara->mesa) (5.3.2)\n",
      "Requirement already satisfied: filelock in c:\\users\\dmrzl\\appdata\\local\\programs\\python\\python312\\lib\\site-packages (from solara->mesa) (3.13.1)\n",
      "Requirement already satisfied: humanize in c:\\users\\dmrzl\\appdata\\local\\programs\\python\\python312\\lib\\site-packages (from solara->mesa) (4.8.0)\n",
      "Requirement already satisfied: ipykernel in c:\\users\\dmrzl\\appdata\\local\\programs\\python\\python312\\lib\\site-packages (from solara->mesa) (6.26.0)\n",
      "Requirement already satisfied: ipyvue>=1.9.0 in c:\\users\\dmrzl\\appdata\\local\\programs\\python\\python312\\lib\\site-packages (from solara->mesa) (1.10.1)\n",
      "Requirement already satisfied: ipyvuetify>=1.8.10 in c:\\users\\dmrzl\\appdata\\local\\programs\\python\\python312\\lib\\site-packages (from solara->mesa) (1.8.10)\n",
      "Requirement already satisfied: ipywidgets in c:\\users\\dmrzl\\appdata\\local\\programs\\python\\python312\\lib\\site-packages (from solara->mesa) (8.1.1)\n",
      "Requirement already satisfied: jupyter-client>=7.0.0 in c:\\users\\dmrzl\\appdata\\local\\programs\\python\\python312\\lib\\site-packages (from solara->mesa) (8.5.0)\n",
      "Requirement already satisfied: markdown in c:\\users\\dmrzl\\appdata\\local\\programs\\python\\python312\\lib\\site-packages (from solara->mesa) (3.5)\n",
      "Requirement already satisfied: markupsafe in c:\\users\\dmrzl\\appdata\\local\\programs\\python\\python312\\lib\\site-packages (from solara->mesa) (2.1.3)\n",
      "Requirement already satisfied: nbformat in c:\\users\\dmrzl\\appdata\\local\\programs\\python\\python312\\lib\\site-packages (from solara->mesa) (5.9.2)\n",
      "Requirement already satisfied: pymdown-extensions in c:\\users\\dmrzl\\appdata\\local\\programs\\python\\python312\\lib\\site-packages (from solara->mesa) (10.3.1)\n",
      "Requirement already satisfied: reacton>=1.7.1 in c:\\users\\dmrzl\\appdata\\local\\programs\\python\\python312\\lib\\site-packages (from solara->mesa) (1.7.2)\n",
      "Requirement already satisfied: rich-click in c:\\users\\dmrzl\\appdata\\local\\programs\\python\\python312\\lib\\site-packages (from solara->mesa) (1.7.0)\n",
      "Requirement already satisfied: starlette in c:\\users\\dmrzl\\appdata\\local\\programs\\python\\python312\\lib\\site-packages (from solara->mesa) (0.31.1)\n",
      "Requirement already satisfied: uvicorn in c:\\users\\dmrzl\\appdata\\local\\programs\\python\\python312\\lib\\site-packages (from solara->mesa) (0.23.2)\n",
      "Requirement already satisfied: watchdog in c:\\users\\dmrzl\\appdata\\local\\programs\\python\\python312\\lib\\site-packages (from solara->mesa) (3.0.0)\n",
      "Requirement already satisfied: websockets in c:\\users\\dmrzl\\appdata\\local\\programs\\python\\python312\\lib\\site-packages (from solara->mesa) (12.0)\n",
      "Requirement already satisfied: chardet>=3.0.2 in c:\\users\\dmrzl\\appdata\\local\\programs\\python\\python312\\lib\\site-packages (from binaryornot>=0.4.4->cookiecutter->mesa) (5.2.0)\n",
      "Requirement already satisfied: comm>=0.1.3 in c:\\users\\dmrzl\\appdata\\local\\programs\\python\\python312\\lib\\site-packages (from ipywidgets->solara->mesa) (0.1.4)\n",
      "Requirement already satisfied: ipython>=6.1.0 in c:\\users\\dmrzl\\appdata\\local\\programs\\python\\python312\\lib\\site-packages (from ipywidgets->solara->mesa) (8.17.1)\n",
      "Requirement already satisfied: traitlets>=4.3.1 in c:\\users\\dmrzl\\appdata\\local\\programs\\python\\python312\\lib\\site-packages (from ipywidgets->solara->mesa) (5.13.0)\n",
      "Requirement already satisfied: widgetsnbextension~=4.0.9 in c:\\users\\dmrzl\\appdata\\local\\programs\\python\\python312\\lib\\site-packages (from ipywidgets->solara->mesa) (4.0.9)\n",
      "Requirement already satisfied: jupyterlab-widgets~=3.0.9 in c:\\users\\dmrzl\\appdata\\local\\programs\\python\\python312\\lib\\site-packages (from ipywidgets->solara->mesa) (3.0.9)\n",
      "Requirement already satisfied: jupyter-core!=5.0.*,>=4.12 in c:\\users\\dmrzl\\appdata\\local\\programs\\python\\python312\\lib\\site-packages (from jupyter-client>=7.0.0->solara->mesa) (5.5.0)\n",
      "Requirement already satisfied: pyzmq>=23.0 in c:\\users\\dmrzl\\appdata\\local\\programs\\python\\python312\\lib\\site-packages (from jupyter-client>=7.0.0->solara->mesa) (25.1.1)\n",
      "Requirement already satisfied: six>=1.5 in c:\\users\\dmrzl\\appdata\\local\\programs\\python\\python312\\lib\\site-packages (from python-dateutil>=2.7->matplotlib->mesa) (1.16.0)\n",
      "Requirement already satisfied: text-unidecode>=1.3 in c:\\users\\dmrzl\\appdata\\local\\programs\\python\\python312\\lib\\site-packages (from python-slugify>=4.0.0->cookiecutter->mesa) (1.3)\n",
      "Requirement already satisfied: typing-extensions>=4.1.1 in c:\\users\\dmrzl\\appdata\\local\\programs\\python\\python312\\lib\\site-packages (from reacton>=1.7.1->solara->mesa) (4.8.0)\n",
      "Requirement already satisfied: charset-normalizer<4,>=2 in c:\\users\\dmrzl\\appdata\\local\\programs\\python\\python312\\lib\\site-packages (from requests>=2.23.0->cookiecutter->mesa) (3.3.1)\n",
      "Requirement already satisfied: idna<4,>=2.5 in c:\\users\\dmrzl\\appdata\\local\\programs\\python\\python312\\lib\\site-packages (from requests>=2.23.0->cookiecutter->mesa) (3.4)\n",
      "Requirement already satisfied: urllib3<3,>=1.21.1 in c:\\users\\dmrzl\\appdata\\local\\programs\\python\\python312\\lib\\site-packages (from requests>=2.23.0->cookiecutter->mesa) (2.0.7)\n",
      "Requirement already satisfied: certifi>=2017.4.17 in c:\\users\\dmrzl\\appdata\\local\\programs\\python\\python312\\lib\\site-packages (from requests>=2.23.0->cookiecutter->mesa) (2023.7.22)\n",
      "Requirement already satisfied: types-python-dateutil>=2.8.10 in c:\\users\\dmrzl\\appdata\\local\\programs\\python\\python312\\lib\\site-packages (from arrow->cookiecutter->mesa) (2.8.19.14)\n",
      "Requirement already satisfied: debugpy>=1.6.5 in c:\\users\\dmrzl\\appdata\\local\\programs\\python\\python312\\lib\\site-packages (from ipykernel->solara->mesa) (1.8.0)\n",
      "Requirement already satisfied: matplotlib-inline>=0.1 in c:\\users\\dmrzl\\appdata\\local\\programs\\python\\python312\\lib\\site-packages (from ipykernel->solara->mesa) (0.1.6)\n",
      "Requirement already satisfied: nest-asyncio in c:\\users\\dmrzl\\appdata\\local\\programs\\python\\python312\\lib\\site-packages (from ipykernel->solara->mesa) (1.5.8)\n",
      "Requirement already satisfied: psutil in c:\\users\\dmrzl\\appdata\\local\\programs\\python\\python312\\lib\\site-packages (from ipykernel->solara->mesa) (5.9.6)\n",
      "Requirement already satisfied: fastjsonschema in c:\\users\\dmrzl\\appdata\\local\\programs\\python\\python312\\lib\\site-packages (from nbformat->solara->mesa) (2.18.1)\n",
      "Requirement already satisfied: jsonschema>=2.6 in c:\\users\\dmrzl\\appdata\\local\\programs\\python\\python312\\lib\\site-packages (from nbformat->solara->mesa) (4.19.2)\n",
      "Requirement already satisfied: markdown-it-py>=2.2.0 in c:\\users\\dmrzl\\appdata\\local\\programs\\python\\python312\\lib\\site-packages (from rich->cookiecutter->mesa) (3.0.0)\n",
      "Requirement already satisfied: pygments<3.0.0,>=2.13.0 in c:\\users\\dmrzl\\appdata\\local\\programs\\python\\python312\\lib\\site-packages (from rich->cookiecutter->mesa) (2.16.1)\n",
      "Requirement already satisfied: anyio<5,>=3.4.0 in c:\\users\\dmrzl\\appdata\\local\\programs\\python\\python312\\lib\\site-packages (from starlette->solara->mesa) (4.0.0)\n",
      "Requirement already satisfied: h11>=0.8 in c:\\users\\dmrzl\\appdata\\local\\programs\\python\\python312\\lib\\site-packages (from uvicorn->solara->mesa) (0.14.0)\n",
      "Requirement already satisfied: sniffio>=1.1 in c:\\users\\dmrzl\\appdata\\local\\programs\\python\\python312\\lib\\site-packages (from anyio<5,>=3.4.0->starlette->solara->mesa) (1.3.0)\n",
      "Requirement already satisfied: decorator in c:\\users\\dmrzl\\appdata\\local\\programs\\python\\python312\\lib\\site-packages (from ipython>=6.1.0->ipywidgets->solara->mesa) (5.1.1)\n",
      "Requirement already satisfied: jedi>=0.16 in c:\\users\\dmrzl\\appdata\\local\\programs\\python\\python312\\lib\\site-packages (from ipython>=6.1.0->ipywidgets->solara->mesa) (0.19.1)\n",
      "Requirement already satisfied: prompt-toolkit!=3.0.37,<3.1.0,>=3.0.30 in c:\\users\\dmrzl\\appdata\\local\\programs\\python\\python312\\lib\\site-packages (from ipython>=6.1.0->ipywidgets->solara->mesa) (3.0.39)\n",
      "Requirement already satisfied: stack-data in c:\\users\\dmrzl\\appdata\\local\\programs\\python\\python312\\lib\\site-packages (from ipython>=6.1.0->ipywidgets->solara->mesa) (0.6.3)\n",
      "Requirement already satisfied: attrs>=22.2.0 in c:\\users\\dmrzl\\appdata\\local\\programs\\python\\python312\\lib\\site-packages (from jsonschema>=2.6->nbformat->solara->mesa) (23.1.0)\n",
      "Requirement already satisfied: jsonschema-specifications>=2023.03.6 in c:\\users\\dmrzl\\appdata\\local\\programs\\python\\python312\\lib\\site-packages (from jsonschema>=2.6->nbformat->solara->mesa) (2023.7.1)\n",
      "Requirement already satisfied: referencing>=0.28.4 in c:\\users\\dmrzl\\appdata\\local\\programs\\python\\python312\\lib\\site-packages (from jsonschema>=2.6->nbformat->solara->mesa) (0.30.2)\n",
      "Requirement already satisfied: rpds-py>=0.7.1 in c:\\users\\dmrzl\\appdata\\local\\programs\\python\\python312\\lib\\site-packages (from jsonschema>=2.6->nbformat->solara->mesa) (0.10.6)\n",
      "Requirement already satisfied: platformdirs>=2.5 in c:\\users\\dmrzl\\appdata\\local\\programs\\python\\python312\\lib\\site-packages (from jupyter-core!=5.0.*,>=4.12->jupyter-client>=7.0.0->solara->mesa) (3.11.0)\n",
      "Requirement already satisfied: pywin32>=300 in c:\\users\\dmrzl\\appdata\\local\\programs\\python\\python312\\lib\\site-packages (from jupyter-core!=5.0.*,>=4.12->jupyter-client>=7.0.0->solara->mesa) (306)\n",
      "Requirement already satisfied: mdurl~=0.1 in c:\\users\\dmrzl\\appdata\\local\\programs\\python\\python312\\lib\\site-packages (from markdown-it-py>=2.2.0->rich->cookiecutter->mesa) (0.1.2)\n",
      "Requirement already satisfied: parso<0.9.0,>=0.8.3 in c:\\users\\dmrzl\\appdata\\local\\programs\\python\\python312\\lib\\site-packages (from jedi>=0.16->ipython>=6.1.0->ipywidgets->solara->mesa) (0.8.3)\n",
      "Requirement already satisfied: wcwidth in c:\\users\\dmrzl\\appdata\\local\\programs\\python\\python312\\lib\\site-packages (from prompt-toolkit!=3.0.37,<3.1.0,>=3.0.30->ipython>=6.1.0->ipywidgets->solara->mesa) (0.2.9)\n",
      "Requirement already satisfied: executing>=1.2.0 in c:\\users\\dmrzl\\appdata\\local\\programs\\python\\python312\\lib\\site-packages (from stack-data->ipython>=6.1.0->ipywidgets->solara->mesa) (2.0.1)\n",
      "Requirement already satisfied: asttokens>=2.1.0 in c:\\users\\dmrzl\\appdata\\local\\programs\\python\\python312\\lib\\site-packages (from stack-data->ipython>=6.1.0->ipywidgets->solara->mesa) (2.4.1)\n",
      "Requirement already satisfied: pure-eval in c:\\users\\dmrzl\\appdata\\local\\programs\\python\\python312\\lib\\site-packages (from stack-data->ipython>=6.1.0->ipywidgets->solara->mesa) (0.2.2)\n",
      "Note: you may need to restart the kernel to use updated packages.\n"
     ]
    }
   ],
   "source": [
    "%pip install mesa"
   ]
  },
  {
   "cell_type": "code",
   "execution_count": 24,
   "metadata": {},
   "outputs": [
    {
     "name": "stdout",
     "output_type": "stream",
     "text": [
      "Running simulation for 100 steps\n",
      "Percentage of dirty cells: 89.49000000000001\n",
      "Execution Time: 0:00:00.025166\n",
      "Number of steps: 100\n",
      "Running simulation for 100 steps\n",
      "Percentage of dirty cells: 89.01\n",
      "Execution Time: 0:00:00.022999\n",
      "Number of steps: 100\n",
      "Running simulation for 1000 steps\n",
      "Percentage of dirty cells: 86.52\n",
      "Execution Time: 0:00:00.134616\n",
      "Number of steps: 1000\n",
      "Running simulation for 1000 steps\n",
      "Percentage of dirty cells: 83.81\n",
      "Execution Time: 0:00:00.049637\n",
      "Number of steps: 1000\n",
      "Running simulation for 10000 steps\n",
      "Percentage of dirty cells: 63.32\n",
      "Execution Time: 0:00:00.213081\n",
      "Number of steps: 10000\n",
      "Running simulation for 10000 steps\n",
      "Percentage of dirty cells: 51.23\n",
      "Execution Time: 0:00:00.320373\n",
      "Number of steps: 10000\n"
     ]
    }
   ],
   "source": [
    "from mesa import Agent, Model\n",
    "from mesa.time import RandomActivation\n",
    "from mesa.space import MultiGrid\n",
    "from mesa.datacollection import DataCollector\n",
    "\n",
    "import numpy as np\n",
    "import time\n",
    "import datetime\n",
    "\n",
    "\n",
    "class CleaningRobotAgent(Agent):\n",
    "    def __init__(self, unique_id, model):\n",
    "        super().__init__(unique_id, model)\n",
    "\n",
    "    def step(self):\n",
    "        (x, y) = self.pos\n",
    "        if self.model.dirty_cells[x][y] == 1:\n",
    "            self.model.dirty_cells[x][y] = 0\n",
    "\n",
    "        neighborhood = self.model.grid.get_neighborhood(self.pos, moore=True, include_center=False)\n",
    "        vacant_cells = [cell for cell in neighborhood if self.model.grid.is_cell_empty(cell)]\n",
    "        if vacant_cells:\n",
    "            new_position = self.random.choice(vacant_cells)\n",
    "            self.model.grid.move_agent(self, new_position)\n",
    "\n",
    "\n",
    "class CleaningModel(Model):\n",
    "    def __init__(self, width, height, num_vacuums, dirty_percentage):\n",
    "        self.num_vacuums = num_vacuums\n",
    "        self.total_cells = width * height\n",
    "        self.amount_of_dirty_cells = int(self.total_cells * (dirty_percentage / 100))\n",
    "        self.schedule = RandomActivation(self)\n",
    "        self.grid = MultiGrid(width, height, False)\n",
    "        self.dirty_cells = np.zeros((width, height))\n",
    "        self.datacollector = DataCollector(\n",
    "            model_reporters={\"Dirty_Percentage\": lambda m: (np.sum(m.dirty_cells) / self.total_cells) * 100},\n",
    "            agent_reporters={\"Position\": \"pos\"}\n",
    "        )\n",
    "\n",
    "        for i in range(self.num_vacuums):\n",
    "            agent = CleaningRobotAgent(i, self)\n",
    "            x = self.random.randrange(self.grid.width)\n",
    "            y = self.random.randrange(self.grid.height)\n",
    "            self.schedule.add(agent)\n",
    "            self.grid.place_agent(agent, (x, y))\n",
    "\n",
    "        count = 0\n",
    "        while count < self.amount_of_dirty_cells:\n",
    "            x = self.random.randrange(self.grid.width)\n",
    "            y = self.random.randrange(self.grid.height)\n",
    "            if self.dirty_cells[x][y] == 0:\n",
    "                self.dirty_cells[x][y] = 1\n",
    "                count += 1\n",
    "\n",
    "    def step(self):\n",
    "        self.datacollector.collect(self)\n",
    "        self.schedule.step()\n",
    "\n",
    "\n",
    "def run_simulation(width, height, num_vacuums, dirty_percentage, max_steps=None):\n",
    "    print(f\"Running simulation for {max_steps if max_steps else 'unlimited'} steps\")\n",
    "    start_time = time.time()\n",
    "    model = CleaningModel(width, height, num_vacuums, dirty_percentage)\n",
    "    steps = 0\n",
    "\n",
    "    while max_steps is None or steps < max_steps:\n",
    "        model.step()\n",
    "        if np.sum(model.dirty_cells) == 0:\n",
    "            break\n",
    "        steps += 1\n",
    "\n",
    "    dirty_percentage = (np.sum(model.dirty_cells) / model.total_cells) * 100\n",
    "    print(\"Percentage of dirty cells:\", dirty_percentage)\n",
    "    print('Execution Time:', str(datetime.timedelta(seconds=(time.time() - start_time))))\n",
    "    print(f'Number of steps: {steps}')\n",
    "\n",
    "\n",
    "# Run simulations\n",
    "run_simulation(100, 100, 1, 90, 100)\n",
    "run_simulation(100, 100, 2, 90, 100)\n",
    "run_simulation(100, 100, 1, 90, 1000)\n",
    "run_simulation(100, 100, 2, 90, 1000)\n",
    "run_simulation(100, 100, 1, 90, 10000)\n",
    "run_simulation(100, 100, 2, 90, 10000)"
   ]
  },
  {
   "cell_type": "code",
   "execution_count": 25,
   "metadata": {},
   "outputs": [
    {
     "name": "stdout",
     "output_type": "stream",
     "text": [
      "Running simulation for unlimited steps\n",
      "Percentage of dirty cells: 0.0\n",
      "Execution Time: 0:00:05.392225\n",
      "Number of steps: 252349\n"
     ]
    }
   ],
   "source": [
    "run_simulation(100, 100, 1, 90)"
   ]
  },
  {
   "cell_type": "code",
   "execution_count": 18,
   "metadata": {},
   "outputs": [
    {
     "name": "stdout",
     "output_type": "stream",
     "text": [
      "Percentage of dirty cells: 0.0\n",
      "Execution Time: 0:00:03.873664\n",
      "Number of steps: 151065\n"
     ]
    }
   ],
   "source": [
    "run_simulation(100, 100, 2, 90)"
   ]
  },
  {
   "cell_type": "code",
   "execution_count": 19,
   "metadata": {},
   "outputs": [
    {
     "name": "stdout",
     "output_type": "stream",
     "text": [
      "Running simulation for unlimited steps\n",
      "Percentage of dirty cells: 0.0\n",
      "Execution Time: 0:00:02.753752\n",
      "Number of steps: 81142\n",
      "Running simulation for unlimited steps\n",
      "Percentage of dirty cells: 0.0\n",
      "Execution Time: 0:00:04.521366\n",
      "Number of steps: 115849\n",
      "Running simulation for unlimited steps\n",
      "Percentage of dirty cells: 0.0\n",
      "Execution Time: 0:00:02.371378\n",
      "Number of steps: 52899\n",
      "Running simulation for unlimited steps\n",
      "Percentage of dirty cells: 0.0\n",
      "Execution Time: 0:00:03.061572\n",
      "Number of steps: 63555\n",
      "Running simulation for unlimited steps\n",
      "Percentage of dirty cells: 0.0\n",
      "Execution Time: 0:00:02.674607\n",
      "Number of steps: 48376\n"
     ]
    }
   ],
   "source": [
    "run_simulation(100, 100, 3, 90)\n",
    "run_simulation(100, 100, 4, 90)\n",
    "run_simulation(100, 100, 5, 90)\n",
    "run_simulation(100, 100, 6, 90)\n",
    "run_simulation(100, 100, 7, 90)"
   ]
  },
  {
   "cell_type": "code",
   "execution_count": 20,
   "metadata": {},
   "outputs": [
    {
     "name": "stdout",
     "output_type": "stream",
     "text": [
      "Running simulation for unlimited steps\n",
      "Percentage of dirty cells: 0.0\n",
      "Execution Time: 0:00:02.151025\n",
      "Number of steps: 36383\n"
     ]
    }
   ],
   "source": [
    "run_simulation(100, 100, 8, 90)"
   ]
  },
  {
   "cell_type": "code",
   "execution_count": 21,
   "metadata": {},
   "outputs": [
    {
     "name": "stdout",
     "output_type": "stream",
     "text": [
      "Running simulation for unlimited steps\n",
      "Percentage of dirty cells: 0.0\n",
      "Execution Time: 0:00:01.335900\n",
      "Number of steps: 22137\n"
     ]
    }
   ],
   "source": [
    "run_simulation(100, 100, 9, 90)"
   ]
  },
  {
   "cell_type": "code",
   "execution_count": 22,
   "metadata": {},
   "outputs": [
    {
     "name": "stdout",
     "output_type": "stream",
     "text": [
      "Running simulation for unlimited steps\n",
      "Percentage of dirty cells: 0.0\n",
      "Execution Time: 0:00:01.785660\n",
      "Number of steps: 25270\n"
     ]
    }
   ],
   "source": [
    "run_simulation(100, 100, 10, 90)"
   ]
  }
 ],
 "metadata": {
  "kernelspec": {
   "display_name": "Python 3.12.0 64-bit",
   "language": "python",
   "name": "python3"
  },
  "language_info": {
   "codemirror_mode": {
    "name": "ipython",
    "version": 3
   },
   "file_extension": ".py",
   "mimetype": "text/x-python",
   "name": "python",
   "nbconvert_exporter": "python",
   "pygments_lexer": "ipython3",
   "version": "3.12.0"
  },
  "vscode": {
   "interpreter": {
    "hash": "7959f01fb9497495954d191fbe8d478d783669989d99972355b653934c5e658c"
   }
  }
 },
 "nbformat": 4,
 "nbformat_minor": 2
}
