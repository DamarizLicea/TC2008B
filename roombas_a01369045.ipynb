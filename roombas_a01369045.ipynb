{
 "cells": [
  {
   "cell_type": "code",
   "execution_count": null,
   "metadata": {},
   "outputs": [],
   "source": [
    "%pip install mesa"
   ]
  },
  {
   "cell_type": "code",
   "execution_count": null,
   "metadata": {},
   "outputs": [],
   "source": [
    "# Importación de librerías\n",
    "\n",
    "from mesa import Agent, Model\n",
    "from mesa.time import RandomActivation\n",
    "from mesa.space import MultiGrid\n",
    "from mesa.datacollection import DataCollector\n",
    "\n",
    "import numpy as np\n",
    "import time\n",
    "import datetime\n",
    "\n",
    "## Clase para el agente, uso de vecindario y movimiento, búsqueda de celdas vacías.\n",
    "\n",
    "class CleaningRobotAgent(Agent):\n",
    "    def __init__(self, unique_id, model):\n",
    "        super().__init__(unique_id, model)\n",
    "\n",
    "    def step(self):\n",
    "        (x, y) = self.pos\n",
    "        if self.model.dirty_cells[x][y] == 1:\n",
    "            self.model.dirty_cells[x][y] = 0\n",
    "\n",
    "        neighborhood = self.model.grid.get_neighborhood(self.pos, moore=True, include_center=False)\n",
    "        vacant_cells = [cell for cell in neighborhood if self.model.grid.is_cell_empty(cell)]\n",
    "        if vacant_cells:\n",
    "            new_position = self.random.choice(vacant_cells)\n",
    "            self.model.grid.move_agent(self, new_position)\n",
    "\n",
    "\n",
    "## Clase para el modelo, uso de grid, agentes, y recolección de datos.\n",
    "## Recibe: ancho, alto, número de aspiradoras, porcentaje de suciedad.\n",
    "\n",
    "class CleaningModel(Model):\n",
    "    def __init__(self, width, height, num_vacuums, dirty_percentage):\n",
    "        self.num_vacuums = num_vacuums\n",
    "        self.total_cells = width * height\n",
    "        self.amount_of_dirty_cells = int(self.total_cells * (dirty_percentage / 100))\n",
    "        self.schedule = RandomActivation(self)\n",
    "        self.grid = MultiGrid(width, height, False)\n",
    "        self.dirty_cells = np.zeros((width, height))\n",
    "        self.datacollector = DataCollector(\n",
    "            model_reporters={\"Dirty_Percentage\": lambda m: (np.sum(m.dirty_cells) / self.total_cells) * 100},\n",
    "            agent_reporters={\"Position\": \"pos\"}\n",
    "        )\n",
    "\n",
    "        for i in range(self.num_vacuums):\n",
    "            agent = CleaningRobotAgent(i, self)\n",
    "            x = self.random.randrange(self.grid.width)\n",
    "            y = self.random.randrange(self.grid.height)\n",
    "            self.schedule.add(agent)\n",
    "            self.grid.place_agent(agent, (x, y))\n",
    "\n",
    "        count = 0\n",
    "        while count < self.amount_of_dirty_cells:\n",
    "            x = self.random.randrange(self.grid.width)\n",
    "            y = self.random.randrange(self.grid.height)\n",
    "            if self.dirty_cells[x][y] == 0:\n",
    "                self.dirty_cells[x][y] = 1\n",
    "                count += 1\n",
    "\n",
    "    def step(self):\n",
    "        self.datacollector.collect(self)\n",
    "        self.schedule.step()\n",
    "\n",
    "\n",
    "## Función para correr la simulación, uso de tiempo y pasos.\n",
    "## Recibe: ancho, alto, número de aspiradoras, porcentaje de suciedad, número de pasos.\n",
    "\n",
    "\n",
    "def run_simulation(width, height, num_vacuums, dirty_percentage, max_steps=None):\n",
    "    print(f\"Running simulation for {max_steps if max_steps else 'unlimited'} steps\")\n",
    "    start_time = time.time()\n",
    "    model = CleaningModel(width, height, num_vacuums, dirty_percentage)\n",
    "    steps = 0\n",
    "\n",
    "    while max_steps is None or steps < max_steps:\n",
    "        model.step()\n",
    "        if np.sum(model.dirty_cells) == 0:\n",
    "            break\n",
    "        steps += 1\n",
    "\n",
    "    dirty_percentage = (np.sum(model.dirty_cells) / model.total_cells) * 100\n",
    "    print(\"Percentage of dirty cells:\", dirty_percentage)\n",
    "    print('Execution Time:', str(datetime.timedelta(seconds=(time.time() - start_time))))\n",
    "    print(f'Number of steps: {steps}')\n",
    "\n",
    "\n",
    "# Simulaciones para el caso 1\n",
    "run_simulation(100, 100, 1, 90, 100)\n",
    "run_simulation(100, 100, 2, 90, 100)\n",
    "run_simulation(100, 100, 1, 90, 1000)\n",
    "run_simulation(100, 100, 2, 90, 1000)\n",
    "run_simulation(100, 100, 1, 90, 10000)\n",
    "run_simulation(100, 100, 2, 90, 10000)"
   ]
  },
  {
   "cell_type": "code",
   "execution_count": null,
   "metadata": {},
   "outputs": [],
   "source": [
    "#Simulaciones ´para el caso 2\n",
    "\n",
    "run_simulation(100, 100, 1, 90)"
   ]
  },
  {
   "cell_type": "code",
   "execution_count": null,
   "metadata": {},
   "outputs": [],
   "source": [
    "run_simulation(100, 100, 2, 90)"
   ]
  },
  {
   "cell_type": "code",
   "execution_count": null,
   "metadata": {},
   "outputs": [],
   "source": [
    "run_simulation(100, 100, 3, 90)\n",
    "run_simulation(100, 100, 4, 90)\n",
    "run_simulation(100, 100, 5, 90)\n",
    "run_simulation(100, 100, 6, 90)\n",
    "run_simulation(100, 100, 7, 90)"
   ]
  },
  {
   "cell_type": "code",
   "execution_count": null,
   "metadata": {},
   "outputs": [],
   "source": [
    "run_simulation(100, 100, 8, 90)"
   ]
  },
  {
   "cell_type": "code",
   "execution_count": null,
   "metadata": {},
   "outputs": [],
   "source": [
    "run_simulation(100, 100, 9, 90)"
   ]
  },
  {
   "cell_type": "code",
   "execution_count": null,
   "metadata": {},
   "outputs": [],
   "source": [
    "run_simulation(100, 100, 10, 90)"
   ]
  }
 ],
 "metadata": {
  "kernelspec": {
   "display_name": "Python 3.12.0 64-bit",
   "language": "python",
   "name": "python3"
  },
  "language_info": {
   "codemirror_mode": {
    "name": "ipython",
    "version": 3
   },
   "file_extension": ".py",
   "mimetype": "text/x-python",
   "name": "python",
   "nbconvert_exporter": "python",
   "pygments_lexer": "ipython3",
   "version": "3.12.0"
  },
  "vscode": {
   "interpreter": {
    "hash": "7959f01fb9497495954d191fbe8d478d783669989d99972355b653934c5e658c"
   }
  }
 },
 "nbformat": 4,
 "nbformat_minor": 2
}
